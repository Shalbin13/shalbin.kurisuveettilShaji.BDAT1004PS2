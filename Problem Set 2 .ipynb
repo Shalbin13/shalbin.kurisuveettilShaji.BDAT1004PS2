{
 "cells": [
  {
   "cell_type": "markdown",
   "id": "d8a4d696",
   "metadata": {},
   "source": [
    "# Question 1 "
   ]
  },
  {
   "cell_type": "markdown",
   "id": "66f9ab9c",
   "metadata": {},
   "source": [
    "Consider the following Python module:\n",
    "a = 0\n",
    "def b():\n",
    "     global a\n",
    "     a = c(a)\n",
    "def c(a):\n",
    "     return a + 2\n",
    "After importing the module into the interpreter, you execute:\n",
    "b()\n",
    "b()\n",
    "b()\n",
    "a\n",
    "\n",
    "What value is displayed when the last expression (a) is evaluated? Explain your \n",
    "answer by indicating what happens in every executed statement"
   ]
  },
  {
   "cell_type": "markdown",
   "id": "2c8e0095",
   "metadata": {},
   "source": [
    "The value displeyed in the console will be 6\n",
    "reason. We have declared a variable 'a' as 6 globally\n",
    "we are telling the interpreter that use global variable a for the calculations. \n",
    "so the first b() takes the gloal 'a' whose value is set to be 0. call c(0) a now becomes 2.\n",
    "second b() takes the a =2 and calls c(2) and returns a  which has the value 4.\n",
    "third time by calling b() the value  of a is now 6\n",
    "and printing a in interpreter the global a is dispalyed and has the value 6 assigned/stored to it."
   ]
  },
  {
   "cell_type": "markdown",
   "id": "3b50451c",
   "metadata": {},
   "source": [
    "# Question 2"
   ]
  },
  {
   "cell_type": "markdown",
   "id": "371eacf0",
   "metadata": {},
   "source": [
    "Function fileLength(), given to you, takes the name of a file as input and returns \n",
    "the length of the file:\n",
    "fileLength('midterm.py')\n",
    "284\n",
    "fileLength('idterm.py')\n",
    "Traceback (most recent call last):\n",
    "File \"<pyshell#34>\", line 1, in <module>\n",
    " fileLength('idterm.py')\n",
    "File \"/Users/me/midterm.py\", line 3, in fileLength\n",
    " infile = open(filename)\n",
    "FileNotFoundError: [Errno 2] No such file or directory: \n",
    "'idterm.py'\n",
    "As shown above, if the file cannot be found by the interpreter or if it cannot be read \n",
    "as a text file, an exception will be raised. Modify function fileLength() so that a \n",
    "friendly message is printed instead:\n",
    "fileLength('midterm.py')\n",
    "358\n",
    "fileLength('idterm.py')\n",
    "File idterm.py not found."
   ]
  },
  {
   "cell_type": "code",
   "execution_count": 51,
   "id": "3efab30e",
   "metadata": {},
   "outputs": [],
   "source": [
    "def fileLength(nameOfFile):\n",
    "    try:\n",
    "        infile = open(nameOfFile)\n",
    "        content = infile.read()\n",
    "        return (len(content))\n",
    "    except FileNotFoundError:\n",
    "        return f\"File {nameOfFile} not found.\""
   ]
  },
  {
   "cell_type": "code",
   "execution_count": 52,
   "id": "63029516",
   "metadata": {},
   "outputs": [
    {
     "data": {
      "text/plain": [
       "'File idterm.py not found.'"
      ]
     },
     "execution_count": 52,
     "metadata": {},
     "output_type": "execute_result"
    }
   ],
   "source": [
    "#trying an invalid file name\n",
    "fileLength(\"idterm.py\")"
   ]
  },
  {
   "cell_type": "code",
   "execution_count": 53,
   "id": "018bc86e",
   "metadata": {},
   "outputs": [
    {
     "data": {
      "text/plain": [
       "66"
      ]
     },
     "execution_count": 53,
     "metadata": {},
     "output_type": "execute_result"
    }
   ],
   "source": [
    "fileLength('sample.txt')"
   ]
  },
  {
   "cell_type": "markdown",
   "id": "740096a0",
   "metadata": {},
   "source": [
    "# Question 3"
   ]
  },
  {
   "cell_type": "markdown",
   "id": "6515143b",
   "metadata": {},
   "source": [
    "Write a class named Marsupial that can be used as shown below:\n",
    " m = Marsupial()\n",
    " m.put_in_pouch('doll')\n",
    " m.put_in_pouch('firetruck')\n",
    " m.put_in_pouch('kitten')\n",
    " m.pouch_contents()\n",
    "['doll', 'firetruck', 'kitten']"
   ]
  },
  {
   "cell_type": "code",
   "execution_count": 27,
   "id": "edf03845",
   "metadata": {},
   "outputs": [],
   "source": [
    "class Marsupial:\n",
    "    def __init__(self):\n",
    "        self.pouch = []\n",
    "    def put_in_pouch(self, item):\n",
    "        self.pouch.append(item)\n",
    "    def pouch_contents(self):\n",
    "        return self.pouch"
   ]
  },
  {
   "cell_type": "code",
   "execution_count": 28,
   "id": "3f6c4b7e",
   "metadata": {},
   "outputs": [],
   "source": [
    "m = Marsupial()"
   ]
  },
  {
   "cell_type": "code",
   "execution_count": 29,
   "id": "a2f4336f",
   "metadata": {},
   "outputs": [],
   "source": [
    "m.put_in_pouch('doll')\n",
    "m.put_in_pouch('firetruck')\n",
    "m.put_in_pouch('kitten')"
   ]
  },
  {
   "cell_type": "code",
   "execution_count": 30,
   "id": "07838f22",
   "metadata": {},
   "outputs": [
    {
     "data": {
      "text/plain": [
       "['doll', 'firetruck', 'kitten']"
      ]
     },
     "execution_count": 30,
     "metadata": {},
     "output_type": "execute_result"
    }
   ],
   "source": [
    "m.pouch_contents()"
   ]
  },
  {
   "cell_type": "code",
   "execution_count": 31,
   "id": "12090423",
   "metadata": {},
   "outputs": [],
   "source": [
    "class Kangaroo(Marsupial):\n",
    "    def __init__(self, x=0, y=0):\n",
    "        super().__init__()\n",
    "        self.x = x\n",
    "        self.y = y\n",
    "    def jump(self, dx, dy):\n",
    "        self.x += dx\n",
    "        self.y += dy\n",
    "    def __str__(self):\n",
    "        return f\"I am a Kangaroo located at coordinates ({self.x},{self.y})\""
   ]
  },
  {
   "cell_type": "code",
   "execution_count": 32,
   "id": "3f1678d5",
   "metadata": {},
   "outputs": [
    {
     "name": "stdout",
     "output_type": "stream",
     "text": [
      "I am a Kangaroo located at coordinates (0,0)\n",
      "['doll', 'firetruck', 'kitten']\n",
      "I am a Kangaroo located at coordinates (3,0)\n"
     ]
    }
   ],
   "source": [
    "k = Kangaroo(0, 0)\n",
    "print(k)\n",
    "\n",
    "k.put_in_pouch('doll')\n",
    "k.put_in_pouch('firetruck')\n",
    "k.put_in_pouch('kitten')\n",
    "contents = k.pouch_contents()\n",
    "\n",
    "print(contents)\n",
    "\n",
    "k.jump(1, 0)\n",
    "k.jump(1, 0)\n",
    "k.jump(1, 0)\n",
    "\n",
    "print(k)"
   ]
  },
  {
   "cell_type": "markdown",
   "id": "ae8e6878",
   "metadata": {},
   "source": [
    "# QUESTION 4"
   ]
  },
  {
   "cell_type": "markdown",
   "id": "6aadeb96",
   "metadata": {},
   "source": [
    "Write function collatz() that takes a positive integer x as input and prints the \n",
    "Collatz sequence starting at x. A Collatz sequence is obtained by repeatedly applying \n",
    "this rule to the previous number x in the sequence:\n",
    "x = { 𝑥/2 𝑖𝑓 𝑥 𝑖𝑠 𝑒𝑣𝑒𝑛 , 3𝑥 + 1 𝑖𝑓 𝑥 𝑖𝑠 𝑜𝑑𝑑\n",
    "Your function should stop when the sequence gets to number 1. Your \n",
    "implementation must be recursive, without any loops.\n"
   ]
  },
  {
   "cell_type": "code",
   "execution_count": 46,
   "id": "f45fd762",
   "metadata": {},
   "outputs": [],
   "source": [
    "def collatz(x):\n",
    "    print(x)\n",
    "    if x == 1:\n",
    "        return\n",
    "    elif x % 2 == 0:\n",
    "        collatz(x // 2)\n",
    "    else:\n",
    "        collatz(3 * x + 1)"
   ]
  },
  {
   "cell_type": "code",
   "execution_count": 47,
   "id": "e57620f2",
   "metadata": {},
   "outputs": [
    {
     "name": "stdout",
     "output_type": "stream",
     "text": [
      "10\n",
      "5\n",
      "16\n",
      "8\n",
      "4\n",
      "2\n",
      "1\n"
     ]
    }
   ],
   "source": [
    "collatz(10)"
   ]
  },
  {
   "cell_type": "code",
   "execution_count": 48,
   "id": "c20d9ce4",
   "metadata": {},
   "outputs": [
    {
     "name": "stdout",
     "output_type": "stream",
     "text": [
      "3\n",
      "10\n",
      "5\n",
      "16\n",
      "8\n",
      "4\n",
      "2\n",
      "1\n"
     ]
    }
   ],
   "source": [
    "collatz(3)"
   ]
  },
  {
   "cell_type": "code",
   "execution_count": 49,
   "id": "9a839951",
   "metadata": {},
   "outputs": [
    {
     "name": "stdout",
     "output_type": "stream",
     "text": [
      "1\n"
     ]
    }
   ],
   "source": [
    "collatz(1)"
   ]
  },
  {
   "cell_type": "markdown",
   "id": "9f15e814",
   "metadata": {},
   "source": [
    "# QUESTION 5"
   ]
  },
  {
   "cell_type": "markdown",
   "id": "6b6c8b58",
   "metadata": {},
   "source": [
    "Write a recursive method binary() that takes a non-negative \n",
    "integer n and prints the binary representation of integer n."
   ]
  },
  {
   "cell_type": "code",
   "execution_count": 41,
   "id": "f68e7601",
   "metadata": {},
   "outputs": [],
   "source": [
    "def binary(n):\n",
    "    if n == 0:\n",
    "        print(0,end='')\n",
    "    elif n == 1:\n",
    "        print(1,end='')\n",
    "    else:\n",
    "        binary(n // 2) \n",
    "        print(n % 2,end='')"
   ]
  },
  {
   "cell_type": "code",
   "execution_count": 42,
   "id": "8d6e4922",
   "metadata": {},
   "outputs": [
    {
     "name": "stdout",
     "output_type": "stream",
     "text": [
      "1010"
     ]
    }
   ],
   "source": [
    "binary(10)"
   ]
  },
  {
   "cell_type": "code",
   "execution_count": 43,
   "id": "31727c40",
   "metadata": {},
   "outputs": [
    {
     "name": "stdout",
     "output_type": "stream",
     "text": [
      "1"
     ]
    }
   ],
   "source": [
    "binary(1)"
   ]
  },
  {
   "cell_type": "code",
   "execution_count": 44,
   "id": "73719743",
   "metadata": {},
   "outputs": [
    {
     "name": "stdout",
     "output_type": "stream",
     "text": [
      "0"
     ]
    }
   ],
   "source": [
    "binary(0)"
   ]
  },
  {
   "cell_type": "code",
   "execution_count": 45,
   "id": "3dc33150",
   "metadata": {},
   "outputs": [
    {
     "name": "stdout",
     "output_type": "stream",
     "text": [
      "111"
     ]
    }
   ],
   "source": [
    "binary(7)"
   ]
  },
  {
   "cell_type": "code",
   "execution_count": null,
   "id": "c1e03839",
   "metadata": {},
   "outputs": [],
   "source": []
  },
  {
   "cell_type": "markdown",
   "id": "6552c9e0",
   "metadata": {},
   "source": [
    "# QUESTION 8"
   ]
  },
  {
   "cell_type": "markdown",
   "id": "98ed8793",
   "metadata": {},
   "source": [
    "Write SQL queries on the below database table that return:"
   ]
  },
  {
   "cell_type": "markdown",
   "id": "1ab7fda5",
   "metadata": {},
   "source": [
    "CREATE TABLE WeatherData (\n",
    "    City VARCHAR(255),\n",
    "    Country VARCHAR(255),\n",
    "    Season VARCHAR(255),\n",
    "    Temperature_in_C DECIMAL(5, 2),\n",
    "    Rainfall DECIMAL(7, 2)\n",
    ");"
   ]
  },
  {
   "cell_type": "markdown",
   "id": "ea02d723",
   "metadata": {},
   "source": [
    "a) All the temperature data."
   ]
  },
  {
   "cell_type": "code",
   "execution_count": null,
   "id": "afb8eab5",
   "metadata": {},
   "outputs": [],
   "source": [
    "SELECT Temperature_in_C FROM WeatherData;\n"
   ]
  },
  {
   "cell_type": "markdown",
   "id": "ae402e60",
   "metadata": {},
   "source": [
    "b) All the cities, but without repetition.\n",
    "\n"
   ]
  },
  {
   "cell_type": "code",
   "execution_count": null,
   "id": "f9c77949",
   "metadata": {},
   "outputs": [],
   "source": [
    "SELECT DISTINCT City FROM WeatherData;"
   ]
  },
  {
   "cell_type": "markdown",
   "id": "79185078",
   "metadata": {},
   "source": [
    "c) All the records for India.\n",
    "\n"
   ]
  },
  {
   "cell_type": "code",
   "execution_count": null,
   "id": "d1511ca5",
   "metadata": {},
   "outputs": [],
   "source": [
    "SELECT * FROM WeatherData WHERE Country = 'India';"
   ]
  },
  {
   "cell_type": "markdown",
   "id": "69ef90ba",
   "metadata": {},
   "source": [
    "d) All the Fall records.\n",
    "\n"
   ]
  },
  {
   "cell_type": "code",
   "execution_count": null,
   "id": "dfbaf847",
   "metadata": {},
   "outputs": [],
   "source": [
    "SELECT * FROM WeatherData WHERE season = 'Fall';\n"
   ]
  },
  {
   "cell_type": "markdown",
   "id": "b372190d",
   "metadata": {},
   "source": [
    "e) The city, country, and season for which the average rainfall is between 200 and 400 millimeters.\n",
    "\n"
   ]
  },
  {
   "cell_type": "code",
   "execution_count": null,
   "id": "6f9df0ec",
   "metadata": {},
   "outputs": [],
   "source": [
    "SELECT City, Country, Season\n",
    "FROM WeatherData\n",
    "GROUP BY city, country, season\n",
    "HAVING AVG(Rainfall) BETWEEN 200 AND 400;\n"
   ]
  },
  {
   "cell_type": "markdown",
   "id": "d36dd46b",
   "metadata": {},
   "source": [
    "f) The city and country for which the average Fall temperature is above 20 degrees, in increasing temperature order.\n",
    "\n"
   ]
  },
  {
   "cell_type": "code",
   "execution_count": null,
   "id": "12c1467d",
   "metadata": {},
   "outputs": [],
   "source": [
    "SELECT City, Country\n",
    "FROM WeatherData\n",
    "WHERE season = 'Fall'\n",
    "GROUP BY City, Country\n",
    "HAVING AVG(Temperature_in_C) > 20\n",
    "ORDER BY AVG(Temperature_in_C) ASC;\n"
   ]
  },
  {
   "cell_type": "markdown",
   "id": "5d169e5a",
   "metadata": {},
   "source": [
    "g) The total annual rainfall for Cairo.\n",
    "\n"
   ]
  },
  {
   "cell_type": "markdown",
   "id": "4b73d02f",
   "metadata": {},
   "source": [
    "SELECT SUM(Rainfall) AS Total_Rainfall\n",
    "FROM WeatherData\n",
    "WHERE City = 'Cairo';\n"
   ]
  },
  {
   "cell_type": "markdown",
   "id": "0db474e9",
   "metadata": {},
   "source": [
    "h) The total rainfall for each season.\n",
    "\n"
   ]
  },
  {
   "cell_type": "code",
   "execution_count": null,
   "id": "07675752",
   "metadata": {},
   "outputs": [],
   "source": [
    "SELECT Season, SUM(Rainfall) AS total_rainfall\n",
    "FROM weather_data\n",
    "GROUP BY season;\n"
   ]
  },
  {
   "cell_type": "markdown",
   "id": "e08f5ab6",
   "metadata": {},
   "source": [
    "# Question 9"
   ]
  },
  {
   "cell_type": "markdown",
   "id": "03368791",
   "metadata": {},
   "source": [
    "Suppose list words is defined as follows:\n",
    "words = ['The', 'quick', 'brown', 'fox', 'jumps', 'over', \n",
    "'the', 'lazy', 'dog']\n",
    "Write list comprehension expressions that use list words and generate the following \n",
    "lists"
   ]
  },
  {
   "cell_type": "code",
   "execution_count": 54,
   "id": "3ee08402",
   "metadata": {},
   "outputs": [],
   "source": [
    "words = ['THE', 'QUICK', 'BROWN', 'FOX', 'JUMPS', 'OVER', 'THE', 'LAZY', 'DOG']\n"
   ]
  },
  {
   "cell_type": "markdown",
   "id": "89418e2a",
   "metadata": {},
   "source": [
    "a) ['THE', 'QUICK', 'BROWN', 'FOX', 'JUMPS', 'OVER', 'THE', \n",
    "'LAZY', 'DOG']\n",
    "\n"
   ]
  },
  {
   "cell_type": "code",
   "execution_count": 36,
   "id": "18df557d",
   "metadata": {},
   "outputs": [
    {
     "name": "stdout",
     "output_type": "stream",
     "text": [
      "['THE', 'QUICK', 'BROWN', 'FOX', 'JUMPS', 'OVER', 'THE', 'LAZY', 'DOG']\n"
     ]
    }
   ],
   "source": [
    "print([word.upper() for word in words])"
   ]
  },
  {
   "cell_type": "markdown",
   "id": "0528d346",
   "metadata": {},
   "source": [
    "b) ['the', 'quick', 'brown', 'fox', 'jumps', 'over', 'the', \n",
    "'lazy', 'dog']\n"
   ]
  },
  {
   "cell_type": "code",
   "execution_count": 37,
   "id": "a088ffe8",
   "metadata": {},
   "outputs": [
    {
     "name": "stdout",
     "output_type": "stream",
     "text": [
      "['the', 'quick', 'brown', 'fox', 'jumps', 'over', 'the', 'lazy', 'dog']\n"
     ]
    }
   ],
   "source": [
    "print([word.lower() for word in words])"
   ]
  },
  {
   "cell_type": "markdown",
   "id": "4fb77ec8",
   "metadata": {},
   "source": [
    "c) [3, 5, 5, 3, 5, 4, 3, 4, 3] (the list of lengths of words in list \n",
    "words).\n"
   ]
  },
  {
   "cell_type": "code",
   "execution_count": 38,
   "id": "01288f57",
   "metadata": {},
   "outputs": [
    {
     "name": "stdout",
     "output_type": "stream",
     "text": [
      "[3, 5, 5, 3, 5, 4, 3, 4, 3]\n"
     ]
    }
   ],
   "source": [
    "print([len(word) for word in words])"
   ]
  },
  {
   "cell_type": "code",
   "execution_count": 39,
   "id": "a12e649b",
   "metadata": {},
   "outputs": [
    {
     "name": "stdout",
     "output_type": "stream",
     "text": [
      "[['THE', 'the', 3], ['QUICK', 'quick', 5], ['BROWN', 'brown', 5], ['FOX', 'fox', 3], ['JUMPS', 'jumps', 5], ['OVER', 'over', 4], ['THE', 'the', 3], ['LAZY', 'lazy', 4], ['DOG', 'dog', 3]]\n"
     ]
    }
   ],
   "source": [
    "print([[word.upper(), word.lower(), len(word)] for word in words])"
   ]
  },
  {
   "cell_type": "code",
   "execution_count": 40,
   "id": "b5aa576e",
   "metadata": {},
   "outputs": [
    {
     "name": "stdout",
     "output_type": "stream",
     "text": [
      "['QUICK', 'BROWN', 'JUMPS', 'OVER', 'LAZY']\n"
     ]
    }
   ],
   "source": [
    "words = ['THE', 'QUICK', 'BROWN', 'FOX', 'JUMPS', 'OVER', 'THE', 'LAZY', 'DOG']\n",
    "print([word for word in words if len(word) >= 4])"
   ]
  },
  {
   "cell_type": "code",
   "execution_count": null,
   "id": "52dd495e",
   "metadata": {},
   "outputs": [],
   "source": []
  }
 ],
 "metadata": {
  "kernelspec": {
   "display_name": "Python 3 (ipykernel)",
   "language": "python",
   "name": "python3"
  },
  "language_info": {
   "codemirror_mode": {
    "name": "ipython",
    "version": 3
   },
   "file_extension": ".py",
   "mimetype": "text/x-python",
   "name": "python",
   "nbconvert_exporter": "python",
   "pygments_lexer": "ipython3",
   "version": "3.11.4"
  }
 },
 "nbformat": 4,
 "nbformat_minor": 5
}
